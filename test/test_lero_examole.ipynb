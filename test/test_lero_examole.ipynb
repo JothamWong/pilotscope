{
 "cells": [
  {
   "cell_type": "code",
   "execution_count": 1,
   "metadata": {
    "pycharm": {
     "name": "#%%\n"
    }
   },
   "outputs": [],
   "source": [
    "# from PilotConfig import PilotConfig\n",
    "import sys\n",
    "sys.path.append(\"../components/\")\n",
    "sys.path.append(\"../../../\")\n",
    "from PilotEnum import DatabaseEnum, EventEnum\n",
    "\n",
    "from PilotFactory import PilotFactory\n",
    "from PilotModel import PilotModel\n",
    "from PilotScheduler import PilotScheduler\n",
    "from UserDefineHandler.LeroParadiamCardAnchorHandler import LeroParadiamCardAnchorHandler\n",
    "\n"
   ]
  },
  {
   "attachments": {},
   "cell_type": "markdown",
   "metadata": {
    "pycharm": {
     "name": "#%% md\n"
    }
   },
   "source": []
  },
  {
   "cell_type": "code",
   "execution_count": 2,
   "metadata": {
    "pycharm": {
     "name": "#%%\n"
    }
   },
   "outputs": [
    {
     "ename": "SyntaxError",
     "evalue": "syntax error at or near \"{\"\nLINE 1: {\n        ^\n",
     "output_type": "error",
     "traceback": [
      "\u001B[0;31m---------------------------------------------------------------------------\u001B[0m",
      "\u001B[0;31mSyntaxError\u001B[0m                               Traceback (most recent call last)",
      "Cell \u001B[0;32mIn[2], line 27\u001B[0m\n\u001B[1;32m     24\u001B[0m scheduler\u001B[39m.\u001B[39mregister_period_event(EventEnum\u001B[39m.\u001B[39mPERIOD_TRAIN_EVENT, \u001B[39m100\u001B[39m, lero_model\u001B[39m.\u001B[39mupdate)\n\u001B[1;32m     26\u001B[0m sql \u001B[39m=\u001B[39m \u001B[39m\"\u001B[39m\u001B[39m\"\u001B[39m\n\u001B[0;32m---> 27\u001B[0m scheduler\u001B[39m.\u001B[39;49msimulate_db_console_offline(sql)\n",
      "File \u001B[0;32m/pgsysml/baihe_lib/pilotscope/test/../components/PilotScheduler.py:33\u001B[0m, in \u001B[0;36mPilotScheduler.simulate_db_console_offline\u001B[0;34m(self, sql)\u001B[0m\n\u001B[1;32m     30\u001B[0m \u001B[39mmap\u001B[39m(\u001B[39mlambda\u001B[39;00m anchor: anchor\u001B[39m.\u001B[39mupdate(sql), \u001B[39mself\u001B[39m\u001B[39m.\u001B[39manchor_to_handlers\u001B[39m.\u001B[39mvalues())\n\u001B[1;32m     32\u001B[0m \u001B[39mself\u001B[39m\u001B[39m.\u001B[39mstate_manager\u001B[39m.\u001B[39mset_by_anchors(\u001B[39mself\u001B[39m\u001B[39m.\u001B[39manchor_to_handlers)\n\u001B[0;32m---> 33\u001B[0m result \u001B[39m=\u001B[39m \u001B[39mself\u001B[39;49m\u001B[39m.\u001B[39;49mstate_manager\u001B[39m.\u001B[39;49mexecute(sql)\n\u001B[1;32m     35\u001B[0m \u001B[39mself\u001B[39m\u001B[39m.\u001B[39m_post_process(result)\n\u001B[1;32m     36\u001B[0m \u001B[39mreturn\u001B[39;00m result\u001B[39m.\u001B[39mrecords\n",
      "File \u001B[0;32m/pgsysml/baihe_lib/pilotscope/test/../components/DataFetcher/PilotStateManager.py:34\u001B[0m, in \u001B[0;36mPilotStateManager.execute\u001B[0;34m(self, sql)\u001B[0m\n\u001B[1;32m     32\u001B[0m records \u001B[39m=\u001B[39m \u001B[39mNone\u001B[39;00m\n\u001B[1;32m     33\u001B[0m \u001B[39mfor\u001B[39;00m sql \u001B[39min\u001B[39;00m sqls:\n\u001B[0;32m---> 34\u001B[0m     records \u001B[39m=\u001B[39m \u001B[39mself\u001B[39;49m\u001B[39m.\u001B[39;49mdb_controller\u001B[39m.\u001B[39;49mexecute(sql)\n\u001B[1;32m     35\u001B[0m receive_data \u001B[39m=\u001B[39m \u001B[39mself\u001B[39m\u001B[39m.\u001B[39mdata_fetcher\u001B[39m.\u001B[39mwait_unitl_get_result()\n\u001B[1;32m     37\u001B[0m data: PilotTransData \u001B[39m=\u001B[39m PilotTransData\u001B[39m.\u001B[39mparse_2_instance(receive_data)\n",
      "File \u001B[0;32m/pgsysml/baihe_lib/pilotscope/test/../components/DBController/PostgreSQLController.py:16\u001B[0m, in \u001B[0;36mPostgreSQLController.execute\u001B[0;34m(self, sql, fetch)\u001B[0m\n\u001B[1;32m     15\u001B[0m \u001B[39mdef\u001B[39;00m \u001B[39mexecute\u001B[39m(\u001B[39mself\u001B[39m, sql, fetch\u001B[39m=\u001B[39m\u001B[39mTrue\u001B[39;00m):\n\u001B[0;32m---> 16\u001B[0m     \u001B[39mself\u001B[39;49m\u001B[39m.\u001B[39;49mcursor\u001B[39m.\u001B[39;49mexecute(sql)\n\u001B[1;32m     17\u001B[0m     \u001B[39mif\u001B[39;00m fetch:\n\u001B[1;32m     18\u001B[0m         \u001B[39mreturn\u001B[39;00m \u001B[39mself\u001B[39m\u001B[39m.\u001B[39mcursor\u001B[39m.\u001B[39mfetchall()\n",
      "\u001B[0;31mSyntaxError\u001B[0m: syntax error at or near \"{\"\nLINE 1: {\n        ^\n"
     ]
    }
   ],
   "source": [
    " # test_lero_online\n",
    "from DataFetcher.PilotStateManager import PilotStateManager\n",
    "from PilotConfig import PilotConfig\n",
    "from baihe_lib.pilotscope.Examples.Lero.PilotLeroModel import PilotLeroModel\n",
    "\n",
    "\n",
    "config: PilotConfig = PilotConfig()\n",
    "config.set_db_type(DatabaseEnum.POSTGRESQL)\n",
    "\n",
    "lero_model: PilotModel = PilotLeroModel()\n",
    "lero_handler = LeroParadiamCardAnchorHandler(lero_model, config)\n",
    "\n",
    "# Register what data needs to be cached for training purposes\n",
    "state_manager = PilotStateManager(config)\n",
    "state_manager.fetch_pyhsical_plan()\n",
    "state_manager.fetch_execution_time()\n",
    "\n",
    "# core\n",
    "scheduler: PilotScheduler = PilotFactory.get_pilot_scheduler(\"lero\",config)\n",
    "scheduler.register_anchor_handler(lero_handler)\n",
    "scheduler.register_collect_data(state_manager)\n",
    "\n",
    "# periodly to updating\n",
    "scheduler.register_period_event(EventEnum.PERIOD_TRAIN_EVENT, 100, lero_model.update)\n",
    "\n",
    "sql = \"\"\n",
    "scheduler.simulate_db_console_offline(sql)"
   ]
  }
 ],
 "metadata": {
  "kernelspec": {
   "display_name": "Python 3",
   "language": "python",
   "name": "python3"
  },
  "language_info": {
   "codemirror_mode": {
    "name": "ipython",
    "version": 3
   },
   "file_extension": ".py",
   "mimetype": "text/x-python",
   "name": "python",
   "nbconvert_exporter": "python",
   "pygments_lexer": "ipython3",
   "version": "3.8.16"
  },
  "orig_nbformat": 4
 },
 "nbformat": 4,
 "nbformat_minor": 2
}